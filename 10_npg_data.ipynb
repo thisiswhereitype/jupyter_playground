{
 "cells": [
  {
   "cell_type": "raw",
   "metadata": {},
   "source": [
    "---\n",
    "description: Provides functions and a pipeline for parsing Nothern Power Grid's primary\n",
    "  operational metering.\n",
    "output-file: npg_data.html\n",
    "title: NPG\n",
    "\n",
    "---\n",
    "\n"
   ]
  },
  {
   "cell_type": "code",
   "execution_count": 16,
   "metadata": {},
   "outputs": [],
   "source": [
    "%reload_ext autoreload\n",
    "%autoreload 2"
   ]
  },
  {
   "cell_type": "code",
   "execution_count": 17,
   "metadata": {},
   "outputs": [],
   "source": [
    "# | default_exp npg.etl"
   ]
  },
  {
   "cell_type": "code",
   "execution_count": 18,
   "metadata": {},
   "outputs": [],
   "source": [
    "# | export\n",
    "import json\n",
    "import zipfile\n",
    "from typing import Callable\n",
    "\n",
    "# import more_itertools as mit\n",
    "import pandas as pd\n",
    "import requests as rq\n",
    "from fastcore.all import *\n",
    "\n",
    "import jupyter_playground.core as core\n",
    "from jupyter_playground.core import DownloadContent, cache\n",
    "\n",
    "if in_jupyter():\n",
    "    from tqdm.notebook import tqdm"
   ]
  },
  {
   "attachments": {},
   "cell_type": "markdown",
   "metadata": {},
   "source": [
    "## Getting Dataset metadata and attachments"
   ]
  },
  {
   "cell_type": "code",
   "execution_count": 19,
   "metadata": {},
   "outputs": [],
   "source": [
    "# | export\n",
    "HOST = \"northernpowergrid\"\n",
    "DATASET = \"primary-operational-metering\"\n",
    "\n",
    "\n",
    "def _always_true(_):\n",
    "    return True\n",
    "\n",
    "\n",
    "def get_dataset_attachments(host: str, dataset: str, filter: Callable = _always_true):\n",
    "    q = f\"https://{host}.opendatasoft.com/api/v2/catalog/datasets/{dataset}/attachments\"\n",
    "    res = rq.get(q)\n",
    "    res.raise_for_status()\n",
    "\n",
    "    return L(a for a in res.json()[\"attachments\"] if filter(a))\n",
    "\n",
    "\n",
    "files = get_dataset_attachments(\n",
    "    HOST, DATASET, lambda x: x[\"href\"].endswith(\"_zip\")\n",
    ").map(lambda x: x[\"href\"])\n",
    "files.map(lambda x: x[-10:])"
   ]
  },
  {
   "attachments": {},
   "cell_type": "markdown",
   "metadata": {},
   "source": [
    "For reference:"
   ]
  },
  {
   "cell_type": "code",
   "execution_count": null,
   "metadata": {},
   "outputs": [
    {
     "data": {
      "text/plain": [
       "'https://northernpowergrid.opendatasoft.com/api/v2/catalog/datasets/primary-operational-metering/attachments'"
      ]
     },
     "execution_count": 5,
     "metadata": {},
     "output_type": "execute_result"
    }
   ],
   "source": [
    "base = \"https://{host}.opendatasoft.com/api/v2/\".format(host=HOST)\n",
    "suffix = \"catalog/datasets/{dataset_id}/attachments\".format(dataset_id=DATASET)\n",
    "base + suffix"
   ]
  },
  {
   "attachments": {},
   "cell_type": "markdown",
   "metadata": {},
   "source": [
    "## Create Parser and Extraction Steps"
   ]
  },
  {
   "cell_type": "code",
   "execution_count": null,
   "metadata": {},
   "outputs": [
    {
     "data": {
      "text/plain": [
       "IncrementalPipeline(name='npg_etl', _funcs=['attachment_download'])"
      ]
     },
     "execution_count": 6,
     "metadata": {},
     "output_type": "execute_result"
    }
   ],
   "source": [
    "# | export\n",
    "pipe = core.IncrementalPipeline(\"npg_etl\", funcs=[core.attachment_download])\n",
    "pipe"
   ]
  },
  {
   "cell_type": "code",
   "execution_count": null,
   "metadata": {},
   "outputs": [
    {
     "name": "stderr",
     "output_type": "stream",
     "text": [
      "1it [00:03,  3.37s/it]\n"
     ]
    },
    {
     "data": {
      "text/plain": [
       "(#1) [32d8b228a35b2302ed5871f407311777]"
      ]
     },
     "execution_count": 7,
     "metadata": {},
     "output_type": "execute_result"
    }
   ],
   "source": [
    "# | eval: false\n",
    "\n",
    "files[:1].map(pipe)"
   ]
  },
  {
   "cell_type": "code",
   "execution_count": null,
   "metadata": {},
   "outputs": [
    {
     "data": {
      "text/plain": [
       "IncrementalPipeline(name='npg_etl', _funcs=['attachment_download', 'parse_attachment_content'])"
      ]
     },
     "execution_count": 8,
     "metadata": {},
     "output_type": "execute_result"
    }
   ],
   "source": [
    "# | export\n",
    "\n",
    "\n",
    "@cache.cache\n",
    "def parse_attachment_content(\n",
    "    Download: DownloadContent, max_file_size: Union[int, float] = 4e9\n",
    ") -> dict:\n",
    "    with zipfile.ZipFile(io.BytesIO(Download.content)) as f:\n",
    "        if f.testzip() is not None:\n",
    "            raise ValueError(\"Content byte string is not a zipfile\")\n",
    "        n = f.infolist()\n",
    "        if len(n) != 1:\n",
    "            raise ValueError(\"Expecting only one file but found the following:\", n)\n",
    "        if n[0].file_size > int(max_file_size):\n",
    "            raise ValueError(f\"{n[0]} exceeds max_file_size ({int(max_file_size)})\")\n",
    "        file_txt = (\n",
    "            zipfile.Path(f, at=n[0].filename)\n",
    "            .read_text(encoding=\"utf-8\", errors=\"ignore\")\n",
    "            .replace(\"[,\", \"[\", 1)  # this is much quicker than regexing\n",
    "        )\n",
    "    # remove newlines and whitespace\n",
    "    return DownloadContent(file_txt)\n",
    "\n",
    "\n",
    "pipe.append_func(parse_attachment_content)"
   ]
  },
  {
   "cell_type": "code",
   "execution_count": null,
   "metadata": {},
   "outputs": [
    {
     "name": "stderr",
     "output_type": "stream",
     "text": [
      "2it [00:12,  6.16s/it]\n"
     ]
    },
    {
     "data": {
      "text/plain": [
       "(#1) [4baf216cf69414089e228916246be3eb]"
      ]
     },
     "execution_count": 9,
     "metadata": {},
     "output_type": "execute_result"
    }
   ],
   "source": [
    "# | eval: false\n",
    "\n",
    "files[:1].map(pipe)"
   ]
  },
  {
   "cell_type": "code",
   "execution_count": null,
   "metadata": {},
   "outputs": [
    {
     "data": {
      "text/plain": [
       "IncrementalPipeline(name='npg_etl', _funcs=['attachment_download', 'parse_attachment_content', 'build_attachment_dataframe'])"
      ]
     },
     "execution_count": 10,
     "metadata": {},
     "output_type": "execute_result"
    }
   ],
   "source": [
    "# | export\n",
    "\n",
    "_cat_cols = [\"substation\", \"circuit\", \"unit\", \"description\"]\n",
    "\n",
    "\n",
    "# @cache.cache\n",
    "def build_attachment_dataframe(text: DownloadContent) -> pd.DataFrame:\n",
    "    df = (\n",
    "        pd.concat(  # together the timeseries arrays\n",
    "            [pd.json_normalize(t) for t in json.loads(text.content)[\"timeseries\"]],\n",
    "            axis=0,\n",
    "            ignore_index=True,\n",
    "        )\n",
    "        .rename({\"values\": \"data\"}, axis=1)\n",
    "        .assign(unit=lambda d: d.unit.replace(r\"^\\s*$\", \"deg\", regex=True))\n",
    "        .set_index(_cat_cols)\n",
    "        .groupby(_cat_cols, sort=False)  # no sort for performance\n",
    "        .apply(lambda d: pd.json_normalize(d.iat[0, -1]))  # run the normalise\n",
    "        .reset_index(-1, drop=True)  # discard index from second parse\n",
    "        .reset_index(drop=False)  # clear rest\n",
    "        .assign(  # fix up types\n",
    "            timestamp=lambda d: pd.to_datetime(d.timestamp),\n",
    "            value=lambda d: pd.to_numeric(d.value, downcast=\"float\"),\n",
    "            yyyy_mm=lambda d: d.timestamp.dt.strftime(\"%Y-%m\"),\n",
    "        )\n",
    "    )\n",
    "    d = df.yyyy_mm.value_counts()  # remove values from neighbour months\n",
    "    if len(d) != 1:\n",
    "        print(text, d.__repr__())  # log these for reference\n",
    "\n",
    "    df[_cat_cols] = df[_cat_cols].astype(\"category\")  # categorise\n",
    "    return df[d.index[d.argmax()] == df.yyyy_mm]\n",
    "\n",
    "\n",
    "pipe.append_func(build_attachment_dataframe)"
   ]
  },
  {
   "cell_type": "code",
   "execution_count": null,
   "metadata": {},
   "outputs": [],
   "source": [
    "# | hide\n",
    "import nbdev\n",
    "\n",
    "nbdev.nbdev_export()"
   ]
  },
  {
   "attachments": {},
   "cell_type": "markdown",
   "metadata": {},
   "source": [
    "Reload so that future calls to the cache are based on the module source code and not the notebook\n"
   ]
  },
  {
   "cell_type": "code",
   "execution_count": null,
   "metadata": {},
   "outputs": [
    {
     "name": "stderr",
     "output_type": "stream",
     "text": [
      "2it [00:15,  8.12s/it]"
     ]
    },
    {
     "name": "stdout",
     "output_type": "stream",
     "text": [
      "16e9515bba143d2ad61d80406e56fbdb 2022-12    20136044\n",
      "2023-01           6\n",
      "Name: yyyy_mm, dtype: int64\n"
     ]
    },
    {
     "name": "stderr",
     "output_type": "stream",
     "text": [
      "3it [07:35, 151.73s/it]\n"
     ]
    },
    {
     "data": {
      "text/html": [
       "<div>\n",
       "<style scoped>\n",
       "    .dataframe tbody tr th:only-of-type {\n",
       "        vertical-align: middle;\n",
       "    }\n",
       "\n",
       "    .dataframe tbody tr th {\n",
       "        vertical-align: top;\n",
       "    }\n",
       "\n",
       "    .dataframe thead th {\n",
       "        text-align: right;\n",
       "    }\n",
       "</style>\n",
       "<table border=\"1\" class=\"dataframe\">\n",
       "  <thead>\n",
       "    <tr style=\"text-align: right;\">\n",
       "      <th></th>\n",
       "      <th>substation</th>\n",
       "      <th>circuit</th>\n",
       "      <th>unit</th>\n",
       "      <th>description</th>\n",
       "      <th>timestamp</th>\n",
       "      <th>value</th>\n",
       "      <th>yyyy_mm</th>\n",
       "    </tr>\n",
       "  </thead>\n",
       "  <tbody>\n",
       "    <tr>\n",
       "      <th>0</th>\n",
       "      <td>LINTON 132/25kV (ULGHAM CROSSING)</td>\n",
       "      <td>LINTON - TRX1</td>\n",
       "      <td>KW</td>\n",
       "      <td>active power (kw)</td>\n",
       "      <td>2022-12-01 00:00:00+00:00</td>\n",
       "      <td>400.0</td>\n",
       "      <td>2022-12</td>\n",
       "    </tr>\n",
       "    <tr>\n",
       "      <th>1</th>\n",
       "      <td>LINTON 132/25kV (ULGHAM CROSSING)</td>\n",
       "      <td>LINTON - TRX1</td>\n",
       "      <td>KW</td>\n",
       "      <td>active power (kw)</td>\n",
       "      <td>2022-12-01 00:30:00+00:00</td>\n",
       "      <td>0.0</td>\n",
       "      <td>2022-12</td>\n",
       "    </tr>\n",
       "    <tr>\n",
       "      <th>2</th>\n",
       "      <td>LINTON 132/25kV (ULGHAM CROSSING)</td>\n",
       "      <td>LINTON - TRX1</td>\n",
       "      <td>KW</td>\n",
       "      <td>active power (kw)</td>\n",
       "      <td>2022-12-01 01:00:00+00:00</td>\n",
       "      <td>0.0</td>\n",
       "      <td>2022-12</td>\n",
       "    </tr>\n",
       "    <tr>\n",
       "      <th>3</th>\n",
       "      <td>LINTON 132/25kV (ULGHAM CROSSING)</td>\n",
       "      <td>LINTON - TRX1</td>\n",
       "      <td>KW</td>\n",
       "      <td>active power (kw)</td>\n",
       "      <td>2022-12-01 01:30:00+00:00</td>\n",
       "      <td>0.0</td>\n",
       "      <td>2022-12</td>\n",
       "    </tr>\n",
       "    <tr>\n",
       "      <th>4</th>\n",
       "      <td>LINTON 132/25kV (ULGHAM CROSSING)</td>\n",
       "      <td>LINTON - TRX1</td>\n",
       "      <td>KW</td>\n",
       "      <td>active power (kw)</td>\n",
       "      <td>2022-12-01 02:00:00+00:00</td>\n",
       "      <td>0.0</td>\n",
       "      <td>2022-12</td>\n",
       "    </tr>\n",
       "    <tr>\n",
       "      <th>...</th>\n",
       "      <td>...</td>\n",
       "      <td>...</td>\n",
       "      <td>...</td>\n",
       "      <td>...</td>\n",
       "      <td>...</td>\n",
       "      <td>...</td>\n",
       "      <td>...</td>\n",
       "    </tr>\n",
       "    <tr>\n",
       "      <th>20136045</th>\n",
       "      <td>WAVERLEY BUSINESS PARK</td>\n",
       "      <td>WAVERLEY BUSINESS PARK - WHITTLE WAY</td>\n",
       "      <td>A</td>\n",
       "      <td>current (amp)</td>\n",
       "      <td>2022-12-31 21:30:00+00:00</td>\n",
       "      <td>7.0</td>\n",
       "      <td>2022-12</td>\n",
       "    </tr>\n",
       "    <tr>\n",
       "      <th>20136046</th>\n",
       "      <td>WAVERLEY BUSINESS PARK</td>\n",
       "      <td>WAVERLEY BUSINESS PARK - WHITTLE WAY</td>\n",
       "      <td>A</td>\n",
       "      <td>current (amp)</td>\n",
       "      <td>2022-12-31 22:00:00+00:00</td>\n",
       "      <td>8.0</td>\n",
       "      <td>2022-12</td>\n",
       "    </tr>\n",
       "    <tr>\n",
       "      <th>20136047</th>\n",
       "      <td>WAVERLEY BUSINESS PARK</td>\n",
       "      <td>WAVERLEY BUSINESS PARK - WHITTLE WAY</td>\n",
       "      <td>A</td>\n",
       "      <td>current (amp)</td>\n",
       "      <td>2022-12-31 22:30:00+00:00</td>\n",
       "      <td>7.0</td>\n",
       "      <td>2022-12</td>\n",
       "    </tr>\n",
       "    <tr>\n",
       "      <th>20136048</th>\n",
       "      <td>WAVERLEY BUSINESS PARK</td>\n",
       "      <td>WAVERLEY BUSINESS PARK - WHITTLE WAY</td>\n",
       "      <td>A</td>\n",
       "      <td>current (amp)</td>\n",
       "      <td>2022-12-31 23:00:00+00:00</td>\n",
       "      <td>8.0</td>\n",
       "      <td>2022-12</td>\n",
       "    </tr>\n",
       "    <tr>\n",
       "      <th>20136049</th>\n",
       "      <td>WAVERLEY BUSINESS PARK</td>\n",
       "      <td>WAVERLEY BUSINESS PARK - WHITTLE WAY</td>\n",
       "      <td>A</td>\n",
       "      <td>current (amp)</td>\n",
       "      <td>2022-12-31 23:30:00+00:00</td>\n",
       "      <td>9.0</td>\n",
       "      <td>2022-12</td>\n",
       "    </tr>\n",
       "  </tbody>\n",
       "</table>\n",
       "<p>20136044 rows × 7 columns</p>\n",
       "</div>"
      ],
      "text/plain": [
       "                                 substation  \\\n",
       "0         LINTON 132/25kV (ULGHAM CROSSING)   \n",
       "1         LINTON 132/25kV (ULGHAM CROSSING)   \n",
       "2         LINTON 132/25kV (ULGHAM CROSSING)   \n",
       "3         LINTON 132/25kV (ULGHAM CROSSING)   \n",
       "4         LINTON 132/25kV (ULGHAM CROSSING)   \n",
       "...                                     ...   \n",
       "20136045             WAVERLEY BUSINESS PARK   \n",
       "20136046             WAVERLEY BUSINESS PARK   \n",
       "20136047             WAVERLEY BUSINESS PARK   \n",
       "20136048             WAVERLEY BUSINESS PARK   \n",
       "20136049             WAVERLEY BUSINESS PARK   \n",
       "\n",
       "                                       circuit unit        description  \\\n",
       "0                                LINTON - TRX1   KW  active power (kw)   \n",
       "1                                LINTON - TRX1   KW  active power (kw)   \n",
       "2                                LINTON - TRX1   KW  active power (kw)   \n",
       "3                                LINTON - TRX1   KW  active power (kw)   \n",
       "4                                LINTON - TRX1   KW  active power (kw)   \n",
       "...                                        ...  ...                ...   \n",
       "20136045  WAVERLEY BUSINESS PARK - WHITTLE WAY    A      current (amp)   \n",
       "20136046  WAVERLEY BUSINESS PARK - WHITTLE WAY    A      current (amp)   \n",
       "20136047  WAVERLEY BUSINESS PARK - WHITTLE WAY    A      current (amp)   \n",
       "20136048  WAVERLEY BUSINESS PARK - WHITTLE WAY    A      current (amp)   \n",
       "20136049  WAVERLEY BUSINESS PARK - WHITTLE WAY    A      current (amp)   \n",
       "\n",
       "                         timestamp  value  yyyy_mm  \n",
       "0        2022-12-01 00:00:00+00:00  400.0  2022-12  \n",
       "1        2022-12-01 00:30:00+00:00    0.0  2022-12  \n",
       "2        2022-12-01 01:00:00+00:00    0.0  2022-12  \n",
       "3        2022-12-01 01:30:00+00:00    0.0  2022-12  \n",
       "4        2022-12-01 02:00:00+00:00    0.0  2022-12  \n",
       "...                            ...    ...      ...  \n",
       "20136045 2022-12-31 21:30:00+00:00    7.0  2022-12  \n",
       "20136046 2022-12-31 22:00:00+00:00    8.0  2022-12  \n",
       "20136047 2022-12-31 22:30:00+00:00    7.0  2022-12  \n",
       "20136048 2022-12-31 23:00:00+00:00    8.0  2022-12  \n",
       "20136049 2022-12-31 23:30:00+00:00    9.0  2022-12  \n",
       "\n",
       "[20136044 rows x 7 columns]"
      ]
     },
     "execution_count": 12,
     "metadata": {},
     "output_type": "execute_result"
    }
   ],
   "source": [
    "# | eval: false\n",
    "\n",
    "from jupyter_playground.npg.etl import pipe\n",
    "\n",
    "df = files[-1:].map(pipe)[0]\n",
    "\n",
    "df"
   ]
  },
  {
   "attachments": {},
   "cell_type": "markdown",
   "metadata": {},
   "source": [
    "Write out the dataset with some partitioning per data and month."
   ]
  },
  {
   "cell_type": "code",
   "execution_count": null,
   "metadata": {},
   "outputs": [],
   "source": [
    "@pipe.decorate_func\n",
    "def writes_file(df):\n",
    "    df.to_parquet(\"npg.parquet\", partition_cols=[\"description\", \"yyyy_mm\"])"
   ]
  },
  {
   "attachments": {},
   "cell_type": "markdown",
   "metadata": {},
   "source": [
    "Finally run all the files. Note the file with 6 rows from next month."
   ]
  },
  {
   "cell_type": "code",
   "execution_count": null,
   "metadata": {},
   "outputs": [
    {
     "data": {
      "application/vnd.jupyter.widget-view+json": {
       "model_id": "3ba7a3ca9ef94552acdc97ec7cfeb3e8",
       "version_major": 2,
       "version_minor": 0
      },
      "text/plain": [
       "  0%|          | 0/12 [00:00<?, ?it/s]"
      ]
     },
     "metadata": {},
     "output_type": "display_data"
    },
    {
     "name": "stderr",
     "output_type": "stream",
     "text": []
    },
    {
     "name": "stdout",
     "output_type": "stream",
     "text": [
      "16e9515bba143d2ad61d80406e56fbdb 2022-12    20136044\n",
      "2023-01           6\n",
      "Name: yyyy_mm, dtype: int64\n"
     ]
    },
    {
     "name": "stderr",
     "output_type": "stream",
     "text": []
    }
   ],
   "source": [
    "# |eval: false\n",
    "for f in tqdm(files):\n",
    "    pipe(f, tqdm_position=1)"
   ]
  },
  {
   "cell_type": "code",
   "execution_count": null,
   "metadata": {},
   "outputs": [],
   "source": [
    "# | hide\n",
    "from nbdev.showdoc import *"
   ]
  }
 ],
 "metadata": {
  "kernelspec": {
   "display_name": "jupyplay",
   "language": "python",
   "name": "python3"
  },
  "language_info": {
   "codemirror_mode": {
    "name": "ipython",
    "version": 3
   },
   "file_extension": ".py",
   "mimetype": "text/x-python",
   "name": "python",
   "nbconvert_exporter": "python",
   "pygments_lexer": "ipython3",
   "version": "3.11.0"
  },
  "orig_nbformat": 4,
  "vscode": {
   "interpreter": {
    "hash": "d63662cd386c7c9018ef920bde7115f93fea20e76e65dad276fae97b3d678c79"
   }
  }
 },
 "nbformat": 4,
 "nbformat_minor": 2
}
