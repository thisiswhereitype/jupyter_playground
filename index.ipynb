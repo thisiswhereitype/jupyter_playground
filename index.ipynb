{
 "cells": [
  {
   "cell_type": "raw",
   "metadata": {},
   "source": [
    "---\n",
    "description: A repository for playing with python\n",
    "output-file: index.html\n",
    "title: jupyter_playground\n",
    "\n",
    "---\n",
    "\n"
   ]
  },
  {
   "cell_type": "code",
   "execution_count": 8,
   "metadata": {},
   "outputs": [],
   "source": [
    "#| hide\n",
    "from jupyter_playground.core import *"
   ]
  },
  {
   "attachments": {},
   "cell_type": "markdown",
   "metadata": {},
   "source": [
    "NB: the notebooks used within create their own modules with [nbdev.fast.ai](https://nbdev.fast.ai)"
   ]
  },
  {
   "attachments": {},
   "cell_type": "markdown",
   "metadata": {},
   "source": [
    "This includes:\n",
    "\n",
    "1. [00_core.ipynb](00_core.ipynb) - some core utility and setup.\n",
    "2. Northern Power Grids data\n",
    "3. [10_npg_data.ipynb](10_npg_data.ipynb) for etl.\n",
    "4. [11_npg.ipynb](11_npg.ipynb) for some plots of the resulting dataset."
   ]
  },
  {
   "cell_type": "markdown",
   "metadata": {},
   "source": [
    "## Install"
   ]
  },
  {
   "attachments": {},
   "cell_type": "markdown",
   "metadata": {},
   "source": [
    "After cloning:\n",
    "\n",
    "```sh\n",
    "pip install -e jupyter_playground\n",
    "```"
   ]
  },
  {
   "cell_type": "markdown",
   "metadata": {},
   "source": [
    "## How to use"
   ]
  },
  {
   "attachments": {},
   "cell_type": "markdown",
   "metadata": {},
   "source": [
    "Some features:"
   ]
  },
  {
   "cell_type": "code",
   "execution_count": 9,
   "metadata": {},
   "outputs": [
    {
     "name": "stdout",
     "output_type": "stream",
     "text": [
      "\n",
      "        A class whose instances can dynamically store functions.\n",
      "        When used as a callable passes each stages return as args into each successive function.\n",
      "    \n"
     ]
    }
   ],
   "source": [
    "import jupyter_playground.core as core\n",
    "\n",
    "print(core.IncrementalPipeline.__doc__)"
   ]
  },
  {
   "cell_type": "code",
   "execution_count": 10,
   "metadata": {},
   "outputs": [
    {
     "name": "stdout",
     "output_type": "stream",
     "text": [
      "\n",
      "        Masks the repr with it's hash to avoid serialising the content.\n",
      "        This stops libraries like joblib serialising large strings in input reprs\n",
      "    \n"
     ]
    }
   ],
   "source": [
    "print(core.DownloadContent.__doc__)"
   ]
  }
 ],
 "metadata": {
  "kernelspec": {
   "display_name": "Python 3 (ipykernel)",
   "language": "python",
   "name": "python3"
  },
  "language_info": {
   "codemirror_mode": {
    "name": "ipython",
    "version": 3
   },
   "file_extension": ".py",
   "mimetype": "text/x-python",
   "name": "python",
   "nbconvert_exporter": "python",
   "pygments_lexer": "ipython3",
   "version": "3.11.0"
  }
 },
 "nbformat": 4,
 "nbformat_minor": 4
}
